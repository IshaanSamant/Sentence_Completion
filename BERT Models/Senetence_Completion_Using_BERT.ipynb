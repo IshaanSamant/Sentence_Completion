{
  "nbformat": 4,
  "nbformat_minor": 0,
  "metadata": {
    "colab": {
      "name": "Senetence_Completion_Using_BERT",
      "provenance": [],
      "collapsed_sections": []
    },
    "kernelspec": {
      "name": "python3",
      "display_name": "Python 3"
    },
    "language_info": {
      "name": "python"
    }
  },
  "cells": [
    {
      "cell_type": "code",
      "metadata": {
        "id": "NgX2zWzURd8B",
        "colab": {
          "base_uri": "https://localhost:8080/"
        },
        "outputId": "eecaec3f-d31d-423a-9088-9da2818eb243"
      },
      "source": [
        "!pip install pytorch-transformers > /dev/null\n",
        "import torch\n",
        "import numpy as np\n",
        "from pytorch_transformers import BertTokenizer, BertForMaskedLM\n",
        "import nltk\n",
        "nltk.download('punkt')"
      ],
      "execution_count": null,
      "outputs": [
        {
          "output_type": "stream",
          "text": [
            "[nltk_data] Downloading package punkt to /root/nltk_data...\n",
            "[nltk_data]   Package punkt is already up-to-date!\n"
          ],
          "name": "stdout"
        },
        {
          "output_type": "execute_result",
          "data": {
            "text/plain": [
              "True"
            ]
          },
          "metadata": {
            "tags": []
          },
          "execution_count": 40
        }
      ]
    },
    {
      "cell_type": "code",
      "metadata": {
        "id": "_EfYOMEYRjKj"
      },
      "source": [
        "tokenizer = BertTokenizer.from_pretrained('bert-base-uncased')\n",
        "model = BertForMaskedLM.from_pretrained('bert-base-uncased', output_attentions=True)\n",
        "model.eval()"
      ],
      "execution_count": null,
      "outputs": []
    },
    {
      "cell_type": "code",
      "metadata": {
        "id": "ymX3qfNYRkv4"
      },
      "source": [
        "def predict():\n",
        "    sentence_orig = input('Enter text:')[:513]\n",
        "    if '____' not in sentence_orig:\n",
        "        return sentence_orig\n",
        "            \n",
        "    sentence = sentence_orig.replace('____', '[MASK]')\n",
        "    tokens = nltk.word_tokenize(sentence)\n",
        "    sentences = nltk.sent_tokenize(sentence)\n",
        "    if len(sentences)>2:\n",
        "        concat = sentences[1:]\n",
        "        concat = ' '.join([x[:-1] for x in concat])\n",
        "        sentences = [sentences[0]] + [concat + '.']\n",
        "    sentence = \" [SEP] \".join(sentences)\n",
        "    sentence = \"[CLS] \" + sentence + \" [SEP]\"\n",
        "\n",
        "\n",
        "    while '[MASK]' in sentence:\n",
        "      tokenized_text = tokenizer.tokenize(sentence)\n",
        "      masked_index = tokenized_text.index('[MASK]')\n",
        "      indexed_tokens = tokenizer.convert_tokens_to_ids(tokenized_text)\n",
        "\n",
        "      segments_ids = []\n",
        "\n",
        "      segment=0\n",
        "      for token in tokenized_text:\n",
        "        segments_ids.append(segment)\n",
        "        if token == '[SEP]':\n",
        "          segment += 1\n",
        "      \n",
        "\n",
        "      tokens_tensor = torch.tensor([indexed_tokens])\n",
        "      segments_tensors = torch.tensor([segments_ids])\n",
        "\n",
        "\n",
        "\n",
        "      with torch.no_grad():\n",
        "              outputs = model(tokens_tensor, token_type_ids=segments_tensors)\n",
        "              predictions = outputs[0]\n",
        "              attention = outputs[-1]\n",
        "\n",
        "      dim = attention[2][0].shape[-1]*attention[2][0].shape[-1]\n",
        "      a = attention[2][0].reshape(12, dim)\n",
        "      b = a.mean(axis=0)\n",
        "      c = b.reshape(attention[2][0].shape[-1],attention[2][0].shape[-1])\n",
        "      avg_wgts = c[masked_index]\n",
        "\n",
        "      predicted_index = torch.argmax(predictions[0, masked_index]).item()\n",
        "      predicted_token = tokenizer.convert_ids_to_tokens([predicted_index])[0]\n",
        "      sentence = sentence.replace('[MASK]', predicted_token, 1)\n",
        "      sentence_orig = sentence_orig.replace('____', predicted_token,1)\n",
        "    \n",
        "    return sentence_orig"
      ],
      "execution_count": null,
      "outputs": []
    },
    {
      "cell_type": "code",
      "metadata": {
        "colab": {
          "base_uri": "https://localhost:8080/",
          "height": 53
        },
        "id": "uO_FGfC0yhHP",
        "outputId": "1bc77465-93dd-46c7-9102-b7cf3c08e87a"
      },
      "source": [
        "predict()"
      ],
      "execution_count": null,
      "outputs": [
        {
          "output_type": "stream",
          "text": [
            "Enter text:Today I went to the ____ and bought some milk and eggs. I knew it was going to rain but I forgot to take my ____ and ended up getting wet on the way.\n"
          ],
          "name": "stdout"
        },
        {
          "output_type": "execute_result",
          "data": {
            "application/vnd.google.colaboratory.intrinsic+json": {
              "type": "string"
            },
            "text/plain": [
              "'Today I went to the store and bought some milk and eggs. I knew it was going to rain but I forgot to take my shower and ended up getting wet on the way.'"
            ]
          },
          "metadata": {
            "tags": []
          },
          "execution_count": 87
        }
      ]
    },
    {
      "cell_type": "code",
      "metadata": {
        "colab": {
          "base_uri": "https://localhost:8080/",
          "height": 53
        },
        "id": "8_CAmP_Hymqw",
        "outputId": "6c7b0317-0999-4e3d-d9d5-f550bbc7909d"
      },
      "source": [
        "predict()"
      ],
      "execution_count": null,
      "outputs": [
        {
          "output_type": "stream",
          "text": [
            "Enter text:Today is sunny ____ we may go to the picnic.\n"
          ],
          "name": "stdout"
        },
        {
          "output_type": "execute_result",
          "data": {
            "application/vnd.google.colaboratory.intrinsic+json": {
              "type": "string"
            },
            "text/plain": [
              "'Today is sunny . we may go to the picnic.'"
            ]
          },
          "metadata": {
            "tags": []
          },
          "execution_count": 88
        }
      ]
    },
    {
      "cell_type": "code",
      "metadata": {
        "colab": {
          "base_uri": "https://localhost:8080/",
          "height": 52
        },
        "id": "P89dShY0bZPv",
        "outputId": "f32df452-1bb3-4eb2-ce04-c75b1d6bfadd"
      },
      "source": [
        "predict()"
      ],
      "execution_count": null,
      "outputs": [
        {
          "output_type": "stream",
          "text": [
            "Enter text:Today I went to the ____ and bought some milk and eggs. I knew it was going to rain but I forgot to take my ____ and ended up getting wet on the way.\n"
          ],
          "name": "stdout"
        },
        {
          "output_type": "execute_result",
          "data": {
            "application/vnd.google.colaboratory.intrinsic+json": {
              "type": "string"
            },
            "text/plain": [
              "'Today I went to the store and bought some milk and eggs. I knew it was going to rain but I forgot to take my shower and ended up getting wet on the way.'"
            ]
          },
          "metadata": {
            "tags": []
          },
          "execution_count": 19
        }
      ]
    },
    {
      "cell_type": "code",
      "metadata": {
        "id": "u_gmGMP4f8ev",
        "colab": {
          "base_uri": "https://localhost:8080/",
          "height": 52
        },
        "outputId": "ee7ae0cb-58e1-4e91-af91-5cfa4e473a06"
      },
      "source": [
        "predict()"
      ],
      "execution_count": null,
      "outputs": [
        {
          "output_type": "stream",
          "text": [
            "Enter text:____ mother is upset with ____ because I got caught in the rain.\n"
          ],
          "name": "stdout"
        },
        {
          "output_type": "execute_result",
          "data": {
            "application/vnd.google.colaboratory.intrinsic+json": {
              "type": "string"
            },
            "text/plain": [
              "'my mother is upset with me because I got caught in the rain.'"
            ]
          },
          "metadata": {
            "tags": []
          },
          "execution_count": 20
        }
      ]
    },
    {
      "cell_type": "code",
      "metadata": {
        "colab": {
          "base_uri": "https://localhost:8080/",
          "height": 52
        },
        "id": "50dAlPF8dMFI",
        "outputId": "fd372035-7ad0-4118-c776-91c30b02d88c"
      },
      "source": [
        "predict()"
      ],
      "execution_count": null,
      "outputs": [
        {
          "output_type": "stream",
          "text": [
            "Enter text:The balloon is filled with helium. So it is ____ than air.\n"
          ],
          "name": "stdout"
        },
        {
          "output_type": "execute_result",
          "data": {
            "application/vnd.google.colaboratory.intrinsic+json": {
              "type": "string"
            },
            "text/plain": [
              "'The balloon is filled with helium. So it is lighter than air.'"
            ]
          },
          "metadata": {
            "tags": []
          },
          "execution_count": 7
        }
      ]
    },
    {
      "cell_type": "code",
      "metadata": {
        "colab": {
          "base_uri": "https://localhost:8080/",
          "height": 52
        },
        "id": "_Y0wwgbae4DH",
        "outputId": "a406a073-847e-4bb5-f02c-834c3a568ff8"
      },
      "source": [
        "predict()"
      ],
      "execution_count": null,
      "outputs": [
        {
          "output_type": "stream",
          "text": [
            "Enter text:Animals hibernate during ____ when it is very cold.\n"
          ],
          "name": "stdout"
        },
        {
          "output_type": "execute_result",
          "data": {
            "application/vnd.google.colaboratory.intrinsic+json": {
              "type": "string"
            },
            "text/plain": [
              "'Animals hibernate during winter when it is very cold.'"
            ]
          },
          "metadata": {
            "tags": []
          },
          "execution_count": 28
        }
      ]
    },
    {
      "cell_type": "code",
      "metadata": {
        "colab": {
          "base_uri": "https://localhost:8080/",
          "height": 89
        },
        "id": "5sCKuvxlunF_",
        "outputId": "4dbcdc65-f4f1-44e3-fcdb-270b1eb0897a"
      },
      "source": [
        "predict()"
      ],
      "execution_count": null,
      "outputs": [
        {
          "output_type": "stream",
          "text": [
            "Enter text:Imagine what it ____ be like if you ____ in your bedroom during an earthquake. Books and stuffed animals tumble ____ shelves. Your computer monitor skitters ____ your desk and crashes to the floor. The walls creak and groan as they flex. Your whole house could ____ in an earthquake.\n"
          ],
          "name": "stdout"
        },
        {
          "output_type": "execute_result",
          "data": {
            "application/vnd.google.colaboratory.intrinsic+json": {
              "type": "string"
            },
            "text/plain": [
              "'Imagine what it would be like if you were in your bedroom during an earthquake. Books and stuffed animals tumble off shelves. Your computer monitor skitters off your desk and crashes to the floor. The walls creak and groan as they flex. Your whole house could collapse in an earthquake.'"
            ]
          },
          "metadata": {
            "tags": []
          },
          "execution_count": 31
        }
      ]
    },
    {
      "cell_type": "code",
      "metadata": {
        "colab": {
          "base_uri": "https://localhost:8080/",
          "height": 89
        },
        "id": "ee8f5-zF0pDS",
        "outputId": "beb8efab-7c3a-46e5-bc1e-1b6a4704c08a"
      },
      "source": [
        "predict()"
      ],
      "execution_count": null,
      "outputs": [
        {
          "output_type": "stream",
          "text": [
            "Enter text:Imagine what it ____ be like if you ____ in your bedroom during an earthquake. Books and stuffed animals tumble ____ shelves. Your computer monitor skitters ____ your desk and crashes to the floor. The walls creak and groan as they flex. Your whole house could ____.\n"
          ],
          "name": "stdout"
        },
        {
          "output_type": "execute_result",
          "data": {
            "application/vnd.google.colaboratory.intrinsic+json": {
              "type": "string"
            },
            "text/plain": [
              "'Imagine what it would be like if you were in your bedroom during an earthquake. Books and stuffed animals tumble off shelves. Your computer monitor skitters off your desk and crashes to the floor. The walls creak and groan as they flex. Your whole house could collapse.'"
            ]
          },
          "metadata": {
            "tags": []
          },
          "execution_count": 32
        }
      ]
    },
    {
      "cell_type": "code",
      "metadata": {
        "colab": {
          "base_uri": "https://localhost:8080/",
          "height": 53
        },
        "id": "7Yj2OdKkGmnP",
        "outputId": "f0fcc9ac-04d7-4231-b63d-cad91ecb8cf3"
      },
      "source": [
        "predict()"
      ],
      "execution_count": null,
      "outputs": [
        {
          "output_type": "stream",
          "text": [
            "Enter text:The girl did not cross the street because ____ was too wide.\n"
          ],
          "name": "stdout"
        },
        {
          "output_type": "execute_result",
          "data": {
            "application/vnd.google.colaboratory.intrinsic+json": {
              "type": "string"
            },
            "text/plain": [
              "'The girl did not cross the street because it was too wide.'"
            ]
          },
          "metadata": {
            "tags": []
          },
          "execution_count": 34
        }
      ]
    },
    {
      "cell_type": "code",
      "metadata": {
        "colab": {
          "base_uri": "https://localhost:8080/",
          "height": 53
        },
        "id": "l8u1QY7DF27f",
        "outputId": "5efc3e3c-887f-4e9e-f1be-5c59a6b02653"
      },
      "source": [
        "predict()"
      ],
      "execution_count": null,
      "outputs": [
        {
          "output_type": "stream",
          "text": [
            "Enter text:The girl did not cross the street because ____ was too slow.\n"
          ],
          "name": "stdout"
        },
        {
          "output_type": "execute_result",
          "data": {
            "application/vnd.google.colaboratory.intrinsic+json": {
              "type": "string"
            },
            "text/plain": [
              "'The girl did not cross the street because she was too slow.'"
            ]
          },
          "metadata": {
            "tags": []
          },
          "execution_count": 28
        }
      ]
    },
    {
      "cell_type": "code",
      "metadata": {
        "id": "DBa_E3LgaOuo"
      },
      "source": [
        "# from transformers import BertTokenizer, BertForMaskedLM\n",
        "bert_tokenizer = BertTokenizer.from_pretrained('bert-base-uncased')\n",
        "bert_model = BertForMaskedLM.from_pretrained('bert-base-uncased').eval()\n",
        "\n",
        "top_k = 10"
      ],
      "execution_count": null,
      "outputs": []
    },
    {
      "cell_type": "code",
      "metadata": {
        "id": "56AGl7x6jABn"
      },
      "source": [
        "import string\n",
        "def decode(tokenizer, pred_idx, top_clean):\n",
        "    ignore_tokens = string.punctuation + '[PAD]'\n",
        "    tokens = []\n",
        "    for w in pred_idx:\n",
        "        token = ''.join(tokenizer.decode(w).split())\n",
        "        if token not in ignore_tokens:\n",
        "            tokens.append(token.replace('##', ''))\n",
        "    return '\\n'.join(tokens[:top_clean])\n",
        "\n",
        "\n",
        "def encode(tokenizer, text_sentence, add_special_tokens=True):\n",
        "    text_sentence = text_sentence.replace('<mask>', tokenizer.mask_token)\n",
        "    # if <mask> is the last token, append a \".\" so that models dont predict punctuation.\n",
        "    if tokenizer.mask_token == text_sentence.split()[-1]:\n",
        "        text_sentence += ' .'\n",
        "\n",
        "    input_ids = torch.tensor([tokenizer.encode(text_sentence, add_special_tokens=add_special_tokens)])\n",
        "    mask_idx = torch.where(input_ids == tokenizer.mask_token_id)[1].tolist()[0]\n",
        "    return input_ids, mask_idx\n"
      ],
      "execution_count": null,
      "outputs": []
    },
    {
      "cell_type": "code",
      "metadata": {
        "id": "KV75Z_IpjO0M"
      },
      "source": [
        "def get_all_predictions(text_sentence, top_clean=5):\n",
        "    print(text_sentence)\n",
        "    input_ids, mask_idx = encode(bert_tokenizer, text_sentence)\n",
        "    # print(input_ids)\n",
        "    # print(mask_idx)\n",
        "    with torch.no_grad():\n",
        "        predict = bert_model(input_ids)[0]\n",
        "    # print(predict)\n",
        "    bert = decode(bert_tokenizer, predict[0, mask_idx, :].topk(top_k).indices.tolist(), top_clean)\n",
        "    print(bert)"
      ],
      "execution_count": null,
      "outputs": []
    },
    {
      "cell_type": "code",
      "metadata": {
        "id": "I247_IvnkYFy"
      },
      "source": [
        "def get_prediction_eos():\n",
        "    try:\n",
        "        input_text = ' '.join(input(\"Enter text: \").split())\n",
        "        input_text += ' <mask>'\n",
        "        res = get_all_predictions(input_text, top_clean=top_k)\n",
        "        print(res)\n",
        "    except Exception as error:\n",
        "        err = str(error)\n",
        "        print(err)\n",
        "\n",
        "def get_prediction_mask():\n",
        "    try:\n",
        "        input_text = ' '.join(input(\"Enter text: \").split())\n",
        "        res = get_all_predictions(input_text, top_clean=top_k)\n",
        "        print(res)\n",
        "    except Exception as error:\n",
        "        err = str(error)\n",
        "        print(err)"
      ],
      "execution_count": null,
      "outputs": []
    },
    {
      "cell_type": "code",
      "metadata": {
        "colab": {
          "base_uri": "https://localhost:8080/"
        },
        "id": "-qAYQpHqlJ7z",
        "outputId": "ed7c4c8c-8ede-4db4-ee1c-64d635d5f8be"
      },
      "source": [
        "get_prediction_eos()"
      ],
      "execution_count": null,
      "outputs": [
        {
          "output_type": "stream",
          "text": [
            "Enter text: today is a good\n",
            "today is a good <mask>\n",
            "day\n",
            "morning\n",
            "time\n",
            "week\n",
            "night\n",
            "afternoon\n",
            "year\n",
            "month\n",
            "evening\n",
            "thing\n",
            "None\n"
          ],
          "name": "stdout"
        }
      ]
    },
    {
      "cell_type": "code",
      "metadata": {
        "colab": {
          "base_uri": "https://localhost:8080/"
        },
        "id": "q4M4TnlQlNcR",
        "outputId": "9a699397-4ad3-469b-8309-eb92e7ebf466"
      },
      "source": [
        "get_prediction_mask()"
      ],
      "execution_count": null,
      "outputs": [
        {
          "output_type": "stream",
          "text": [
            "Enter text: Today I went to the <mask> and bought some eggs and milk.\n",
            "Today I went to the <mask> and bought some eggs and milk.\n",
            "store\n",
            "grocery\n",
            "supermarket\n",
            "fridge\n",
            "kitchen\n",
            "refrigerator\n",
            "dairy\n",
            "market\n",
            "mall\n",
            "bathroom\n",
            "None\n"
          ],
          "name": "stdout"
        }
      ]
    },
    {
      "cell_type": "code",
      "metadata": {
        "id": "HQUr-Dck1_WY",
        "colab": {
          "base_uri": "https://localhost:8080/"
        },
        "outputId": "3557ce0e-fd41-42d2-b4e1-ec3cc017e9dd"
      },
      "source": [
        "get_prediction_mask()"
      ],
      "execution_count": null,
      "outputs": [
        {
          "output_type": "stream",
          "text": [
            "Enter text: The girl did not cross the street because <mask> was too wide.\n",
            "The girl did not cross the street because <mask> was too wide.\n",
            "tensor([[[ -6.6597,  -6.6559,  -6.6483,  ...,  -6.0181,  -5.8601,  -3.9669],\n",
            "         [-18.8028, -18.6821, -18.5608,  ..., -15.9036, -14.8830, -13.1857],\n",
            "         [-11.7190, -11.8977, -11.6776,  ...,  -9.2338, -10.3024,  -4.3298],\n",
            "         ...,\n",
            "         [ -9.8016, -10.0319,  -9.8785,  ...,  -8.0871,  -8.3019,  -5.6903],\n",
            "         [-12.3961, -12.0771, -12.2415,  ..., -10.5092, -10.7978,  -6.7733],\n",
            "         [-15.8802, -15.9526, -15.8541,  ..., -14.0989, -13.6420,  -9.7592]]])\n",
            "it\n",
            "she\n",
            "this\n",
            "one\n",
            "that\n",
            "hers\n",
            "he\n",
            "there\n",
            "her\n",
            "everything\n",
            "None\n"
          ],
          "name": "stdout"
        }
      ]
    },
    {
      "cell_type": "code",
      "metadata": {
        "colab": {
          "base_uri": "https://localhost:8080/"
        },
        "id": "NEIjDEgJEEXb",
        "outputId": "7b63388a-a2e6-47bd-b7a4-bc157a059896"
      },
      "source": [
        "get_prediction_mask()"
      ],
      "execution_count": null,
      "outputs": [
        {
          "output_type": "stream",
          "text": [
            "Enter text: Today is <mask>\n",
            "Today is <mask>\n",
            "tensor([[[ -6.5143,  -6.4589,  -6.4877,  ...,  -5.8938,  -5.6277,  -3.9238],\n",
            "         [-11.3656, -11.4199, -11.1213,  ...,  -9.1138,  -9.6923,  -8.7958],\n",
            "         [-13.9106, -13.7745, -13.7661,  ..., -12.6961, -10.6249,  -8.2464],\n",
            "         [ -6.1176,  -6.0248,  -6.0567,  ...,  -5.4127,  -6.3371,  -3.1804],\n",
            "         [-10.7985, -10.4356, -11.0958,  ...,  -8.7714,  -8.7744,  -4.9093],\n",
            "         [-13.9459, -13.8575, -14.1216,  ..., -11.4664, -10.7277,  -8.8884]]])\n",
            "different\n",
            "better\n",
            "today\n",
            "good\n",
            "sunday\n",
            "nothing\n",
            "summer\n",
            "perfect\n",
            "not\n",
            "saturday\n",
            "None\n"
          ],
          "name": "stdout"
        }
      ]
    },
    {
      "cell_type": "code",
      "metadata": {
        "id": "ffNa0pXhIvbP"
      },
      "source": [
        ""
      ],
      "execution_count": null,
      "outputs": []
    }
  ]
}