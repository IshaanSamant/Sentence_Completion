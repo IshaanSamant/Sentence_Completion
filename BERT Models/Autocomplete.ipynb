{
 "cells": [
  {
   "cell_type": "code",
   "execution_count": 1,
   "id": "incorporate-tuesday",
   "metadata": {},
   "outputs": [
    {
     "name": "stdout",
     "output_type": "stream",
     "text": [
      "Num GPUs Available:  1\n"
     ]
    }
   ],
   "source": [
    "from tensorflow.keras.layers import Embedding, LSTM, Dense, Bidirectional\n",
    "from tensorflow.keras.models import Sequential\n",
    "import numpy as np \n",
    "import re\n",
    "import tensorflow as tf\n",
    "print(\"Num GPUs Available: \", len(tf.config.list_physical_devices('GPU')))"
   ]
  },
  {
   "cell_type": "code",
   "execution_count": 2,
   "id": "human-cheese",
   "metadata": {},
   "outputs": [
    {
     "data": {
      "text/plain": [
       "['chapter',\n",
       " '1',\n",
       " 'it',\n",
       " 'is',\n",
       " 'a',\n",
       " 'truth',\n",
       " 'universally',\n",
       " 'acknowledged',\n",
       " 'that',\n",
       " 'a',\n",
       " 'single',\n",
       " 'man',\n",
       " 'in',\n",
       " 'possession',\n",
       " 'of',\n",
       " 'a',\n",
       " 'good',\n",
       " 'fortune',\n",
       " 'must',\n",
       " 'be',\n",
       " 'in',\n",
       " 'want',\n",
       " 'of',\n",
       " 'a',\n",
       " 'wife']"
      ]
     },
     "execution_count": 2,
     "metadata": {},
     "output_type": "execute_result"
    }
   ],
   "source": [
    "with open (\"pandp.txt\", \"r\") as myfile:\n",
    "  data=myfile.read().replace(\"\\n\", \" \")\n",
    "data = (data).split(\". \")\n",
    "input_seq = []\n",
    "for i in range(len(data)):\n",
    "    sent = re.sub(r'[^\\w\\s]', '', data[i]) \n",
    "    sent = sent.lower()\n",
    "    sent = sent.split()\n",
    "    input_seq.append(sent)\n",
    "(input_seq[0])"
   ]
  },
  {
   "cell_type": "code",
   "execution_count": 3,
   "id": "subsequent-singer",
   "metadata": {},
   "outputs": [],
   "source": [
    "sentences = []\n",
    "for sentence in input_seq:\n",
    "\tfor i in range(1, len(sentence)):\n",
    "\t\tn_gram_sequence = sentence[:i+1]\n",
    "\t\tsentences.append(n_gram_sequence)"
   ]
  },
  {
   "cell_type": "code",
   "execution_count": 4,
   "id": "derived-bryan",
   "metadata": {},
   "outputs": [
    {
     "data": {
      "text/plain": [
       "6940"
      ]
     },
     "execution_count": 4,
     "metadata": {},
     "output_type": "execute_result"
    }
   ],
   "source": [
    "all_words = []\n",
    "for sentence in (sentences):\n",
    "  for word in sentence:\n",
    "     word = re.sub(r'[^\\w\\s]', '', word) \n",
    "     word = word.lower()\n",
    "     all_words.append(word)\n",
    "\n",
    "all_words = list(set(all_words))\n",
    "len(all_words)"
   ]
  },
  {
   "cell_type": "code",
   "execution_count": 5,
   "id": "convertible-blame",
   "metadata": {},
   "outputs": [
    {
     "data": {
      "text/plain": [
       "166"
      ]
     },
     "execution_count": 5,
     "metadata": {},
     "output_type": "execute_result"
    }
   ],
   "source": [
    "def word_dict(all_words):\n",
    "    word_dict = {}\n",
    "    for idx, words in enumerate(all_words):\n",
    "        word_dict[words] = idx+1\n",
    "    return word_dict\n",
    "\n",
    "max_sequence_len = max([len(x) for x in sentences])\n",
    "def bag_of_word(tokenize_sen,wordict):\n",
    "    bg_token = np.zeros((max_sequence_len))\n",
    "    for idx,token in enumerate(tokenize_sen):\n",
    "        if token in wordict.keys():\n",
    "            bg_token[max_sequence_len - len(tokenize_sen)+idx] = wordict[token]   #prepadding\n",
    "        else:\n",
    "            bg_token[idx]= -1.0     # assign -1 to words not present in allwords\n",
    "    return bg_token\n",
    "max_sequence_len"
   ]
  },
  {
   "cell_type": "code",
   "execution_count": 6,
   "id": "future-research",
   "metadata": {},
   "outputs": [],
   "source": [
    "word_index = word_dict(all_words=all_words)\n",
    "tokenized = []\n",
    "for sentence in sentences:\n",
    "  tokenized.append(bag_of_word(sentence, word_index))\n",
    "\n",
    "# #Now sentences are prepadded and tokenized\n",
    "tokenized_sen_num = np.array(tokenized)"
   ]
  },
  {
   "cell_type": "code",
   "execution_count": 7,
   "id": "optimum-timing",
   "metadata": {},
   "outputs": [],
   "source": [
    "xs, labels = tokenized_sen_num[:,:-1],tokenized_sen_num[:,-1]\n",
    "(tokenized_sen_num).shape\n",
    "ys = tf.keras.utils.to_categorical(labels, num_classes=len(all_words)+1)"
   ]
  },
  {
   "cell_type": "code",
   "execution_count": 8,
   "id": "intimate-contributor",
   "metadata": {
    "scrolled": false
   },
   "outputs": [
    {
     "name": "stdout",
     "output_type": "stream",
     "text": [
      "Epoch 1/160\n",
      "3636/3636 [==============================] - 84s 22ms/step - loss: 6.4857 - accuracy: 0.0528\n",
      "Epoch 2/160\n",
      "3636/3636 [==============================] - 81s 22ms/step - loss: 5.5244 - accuracy: 0.1178\n",
      "Epoch 3/160\n",
      "3636/3636 [==============================] - 80s 22ms/step - loss: 5.1353 - accuracy: 0.1455\n",
      "Epoch 4/160\n",
      "3636/3636 [==============================] - 79s 22ms/step - loss: 4.8686 - accuracy: 0.1631\n",
      "Epoch 5/160\n",
      "3636/3636 [==============================] - 79s 22ms/step - loss: 4.6861 - accuracy: 0.1742\n",
      "Epoch 6/160\n",
      "3636/3636 [==============================] - 76s 21ms/step - loss: 4.4962 - accuracy: 0.1877\n",
      "Epoch 7/160\n",
      "3636/3636 [==============================] - 76s 21ms/step - loss: 4.3455 - accuracy: 0.1968\n",
      "Epoch 8/160\n",
      "3636/3636 [==============================] - 83s 23ms/step - loss: 4.2097 - accuracy: 0.2084\n",
      "Epoch 9/160\n",
      "3636/3636 [==============================] - 79s 22ms/step - loss: 4.0794 - accuracy: 0.2196\n",
      "Epoch 10/160\n",
      "3636/3636 [==============================] - 79s 22ms/step - loss: 3.9486 - accuracy: 0.2353\n",
      "Epoch 11/160\n",
      "3636/3636 [==============================] - 79s 22ms/step - loss: 3.8158 - accuracy: 0.2491\n",
      "Epoch 12/160\n",
      "3636/3636 [==============================] - 78s 21ms/step - loss: 3.7030 - accuracy: 0.2646\n",
      "Epoch 13/160\n",
      "3636/3636 [==============================] - 75s 21ms/step - loss: 3.5987 - accuracy: 0.2772\n",
      "Epoch 14/160\n",
      "3636/3636 [==============================] - 75s 21ms/step - loss: 3.4988 - accuracy: 0.2954\n",
      "Epoch 15/160\n",
      "3636/3636 [==============================] - 76s 21ms/step - loss: 3.4114 - accuracy: 0.3049\n",
      "Epoch 16/160\n",
      "3636/3636 [==============================] - 75s 21ms/step - loss: 3.3196 - accuracy: 0.3185\n",
      "Epoch 17/160\n",
      "3636/3636 [==============================] - 75s 21ms/step - loss: 3.2334 - accuracy: 0.3349\n",
      "Epoch 18/160\n",
      "3636/3636 [==============================] - 77s 21ms/step - loss: 3.1544 - accuracy: 0.3476\n",
      "Epoch 19/160\n",
      "3636/3636 [==============================] - 78s 21ms/step - loss: 3.0777 - accuracy: 0.3599\n",
      "Epoch 20/160\n",
      "3636/3636 [==============================] - 78s 21ms/step - loss: 3.0224 - accuracy: 0.3712\n",
      "Epoch 21/160\n",
      "3636/3636 [==============================] - 78s 21ms/step - loss: 2.9547 - accuracy: 0.3832\n",
      "Epoch 22/160\n",
      "3636/3636 [==============================] - 78s 22ms/step - loss: 2.8990 - accuracy: 0.3919\n",
      "Epoch 23/160\n",
      "3636/3636 [==============================] - 78s 22ms/step - loss: 2.8383 - accuracy: 0.4012\n",
      "Epoch 24/160\n",
      "3636/3636 [==============================] - 78s 22ms/step - loss: 2.7958 - accuracy: 0.4098\n",
      "Epoch 25/160\n",
      "3636/3636 [==============================] - 79s 22ms/step - loss: 2.7397 - accuracy: 0.4206\n",
      "Epoch 26/160\n",
      "3636/3636 [==============================] - 75s 21ms/step - loss: 2.6936 - accuracy: 0.4282\n",
      "Epoch 27/160\n",
      "3636/3636 [==============================] - 77s 21ms/step - loss: 2.6552 - accuracy: 0.4363\n",
      "Epoch 28/160\n",
      "3636/3636 [==============================] - 80s 22ms/step - loss: 2.6191 - accuracy: 0.4404\n",
      "Epoch 29/160\n",
      "3636/3636 [==============================] - 79s 22ms/step - loss: 2.5752 - accuracy: 0.4505\n",
      "Epoch 30/160\n",
      "3636/3636 [==============================] - 79s 22ms/step - loss: 2.5427 - accuracy: 0.4555\n",
      "Epoch 31/160\n",
      "3636/3636 [==============================] - 79s 22ms/step - loss: 2.4920 - accuracy: 0.4649\n",
      "Epoch 32/160\n",
      "3636/3636 [==============================] - 79s 22ms/step - loss: 2.4684 - accuracy: 0.4718\n",
      "Epoch 33/160\n",
      "3636/3636 [==============================] - 79s 22ms/step - loss: 2.4286 - accuracy: 0.4777\n",
      "Epoch 34/160\n",
      "3636/3636 [==============================] - 79s 22ms/step - loss: 2.3932 - accuracy: 0.4838\n",
      "Epoch 35/160\n",
      "3636/3636 [==============================] - 75s 21ms/step - loss: 2.3685 - accuracy: 0.4895\n",
      "Epoch 36/160\n",
      "3636/3636 [==============================] - 77s 21ms/step - loss: 2.3344 - accuracy: 0.4924\n",
      "Epoch 37/160\n",
      "3636/3636 [==============================] - 75s 21ms/step - loss: 2.3136 - accuracy: 0.5013\n",
      "Epoch 38/160\n",
      "3636/3636 [==============================] - 76s 21ms/step - loss: 2.2799 - accuracy: 0.50550s - loss: 2.2798 - accuracy: 0.50\n",
      "Epoch 39/160\n",
      "3636/3636 [==============================] - 76s 21ms/step - loss: 2.2545 - accuracy: 0.5107\n",
      "Epoch 40/160\n",
      "3636/3636 [==============================] - 76s 21ms/step - loss: 2.2351 - accuracy: 0.5144\n",
      "Epoch 41/160\n",
      "3636/3636 [==============================] - 78s 21ms/step - loss: 2.2124 - accuracy: 0.5180\n",
      "Epoch 42/160\n",
      "3636/3636 [==============================] - 79s 22ms/step - loss: 2.1960 - accuracy: 0.5222\n",
      "Epoch 43/160\n",
      "3636/3636 [==============================] - 79s 22ms/step - loss: 2.1784 - accuracy: 0.5233\n",
      "Epoch 44/160\n",
      "3636/3636 [==============================] - 80s 22ms/step - loss: 2.1547 - accuracy: 0.5283\n",
      "Epoch 45/160\n",
      "3636/3636 [==============================] - 79s 22ms/step - loss: 2.1416 - accuracy: 0.5307\n",
      "Epoch 46/160\n",
      "3636/3636 [==============================] - 79s 22ms/step - loss: 2.1103 - accuracy: 0.5362\n",
      "Epoch 47/160\n",
      "3636/3636 [==============================] - 79s 22ms/step - loss: 2.0800 - accuracy: 0.5438\n",
      "Epoch 48/160\n",
      "3636/3636 [==============================] - 79s 22ms/step - loss: 2.0838 - accuracy: 0.5416\n",
      "Epoch 49/160\n",
      "3636/3636 [==============================] - 80s 22ms/step - loss: 2.0476 - accuracy: 0.5495\n",
      "Epoch 50/160\n",
      "3636/3636 [==============================] - 79s 22ms/step - loss: 2.0403 - accuracy: 0.5503\n",
      "Epoch 51/160\n",
      "3636/3636 [==============================] - 79s 22ms/step - loss: 2.0312 - accuracy: 0.5510\n",
      "Epoch 52/160\n",
      "3636/3636 [==============================] - 79s 22ms/step - loss: 2.0196 - accuracy: 0.5555\n",
      "Epoch 53/160\n",
      "3636/3636 [==============================] - 80s 22ms/step - loss: 1.9957 - accuracy: 0.5606\n",
      "Epoch 54/160\n",
      "3636/3636 [==============================] - 79s 22ms/step - loss: 1.9759 - accuracy: 0.5634\n",
      "Epoch 55/160\n",
      "3636/3636 [==============================] - 79s 22ms/step - loss: 1.9679 - accuracy: 0.5657\n",
      "Epoch 56/160\n",
      "3636/3636 [==============================] - 80s 22ms/step - loss: 1.9523 - accuracy: 0.5683\n",
      "Epoch 57/160\n",
      "3636/3636 [==============================] - 80s 22ms/step - loss: 1.9403 - accuracy: 0.5702\n",
      "Epoch 58/160\n",
      "3636/3636 [==============================] - 81s 22ms/step - loss: 1.9353 - accuracy: 0.5718\n",
      "Epoch 59/160\n",
      "3636/3636 [==============================] - 80s 22ms/step - loss: 1.9094 - accuracy: 0.5774\n",
      "Epoch 60/160\n",
      "3636/3636 [==============================] - 80s 22ms/step - loss: 1.9005 - accuracy: 0.5779\n",
      "Epoch 61/160\n",
      "3636/3636 [==============================] - 81s 22ms/step - loss: 1.8938 - accuracy: 0.5807\n",
      "Epoch 62/160\n",
      "3636/3636 [==============================] - 80s 22ms/step - loss: 1.8764 - accuracy: 0.5844\n",
      "Epoch 63/160\n",
      "3636/3636 [==============================] - 80s 22ms/step - loss: 1.8611 - accuracy: 0.5867\n",
      "Epoch 64/160\n",
      "3636/3636 [==============================] - 80s 22ms/step - loss: 1.8701 - accuracy: 0.5831\n",
      "Epoch 65/160\n",
      "3636/3636 [==============================] - 81s 22ms/step - loss: 1.8456 - accuracy: 0.5889\n",
      "Epoch 66/160\n",
      "3636/3636 [==============================] - 78s 21ms/step - loss: 1.8420 - accuracy: 0.5894\n",
      "Epoch 67/160\n",
      "3636/3636 [==============================] - 77s 21ms/step - loss: 1.8332 - accuracy: 0.5916\n",
      "Epoch 68/160\n",
      "3636/3636 [==============================] - 77s 21ms/step - loss: 1.8284 - accuracy: 0.5920\n",
      "Epoch 69/160\n",
      "3636/3636 [==============================] - 77s 21ms/step - loss: 1.8010 - accuracy: 0.5983\n",
      "Epoch 70/160\n",
      "3636/3636 [==============================] - 77s 21ms/step - loss: 1.7999 - accuracy: 0.5972\n",
      "Epoch 71/160\n",
      "3636/3636 [==============================] - 78s 21ms/step - loss: 1.7951 - accuracy: 0.5997\n",
      "Epoch 72/160\n",
      "3636/3636 [==============================] - 78s 21ms/step - loss: 1.7838 - accuracy: 0.6002\n",
      "Epoch 73/160\n",
      "3636/3636 [==============================] - 78s 21ms/step - loss: 1.7827 - accuracy: 0.5980\n",
      "Epoch 74/160\n",
      "3636/3636 [==============================] - 77s 21ms/step - loss: 1.7736 - accuracy: 0.6030\n",
      "Epoch 75/160\n",
      "3636/3636 [==============================] - 77s 21ms/step - loss: 1.7511 - accuracy: 0.6056\n",
      "Epoch 76/160\n",
      "3636/3636 [==============================] - 77s 21ms/step - loss: 1.7554 - accuracy: 0.6027\n",
      "Epoch 77/160\n",
      "3636/3636 [==============================] - 77s 21ms/step - loss: 1.7439 - accuracy: 0.6080\n",
      "Epoch 78/160\n"
     ]
    },
    {
     "name": "stdout",
     "output_type": "stream",
     "text": [
      "3636/3636 [==============================] - 78s 21ms/step - loss: 1.7348 - accuracy: 0.6093\n",
      "Epoch 79/160\n",
      "3636/3636 [==============================] - 77s 21ms/step - loss: 1.7213 - accuracy: 0.6122\n",
      "Epoch 80/160\n",
      "3636/3636 [==============================] - 77s 21ms/step - loss: 1.7261 - accuracy: 0.6115\n",
      "Epoch 81/160\n",
      "3636/3636 [==============================] - 78s 21ms/step - loss: 1.7057 - accuracy: 0.6153\n",
      "Epoch 82/160\n",
      "3636/3636 [==============================] - 78s 21ms/step - loss: 1.7073 - accuracy: 0.6157\n",
      "Epoch 83/160\n",
      "3636/3636 [==============================] - 82s 22ms/step - loss: 1.6854 - accuracy: 0.6208\n",
      "Epoch 84/160\n",
      "3636/3636 [==============================] - 86s 24ms/step - loss: 1.6840 - accuracy: 0.6163\n",
      "Epoch 85/160\n",
      "3636/3636 [==============================] - 81s 22ms/step - loss: 1.6733 - accuracy: 0.6196\n",
      "Epoch 86/160\n",
      "3636/3636 [==============================] - 81s 22ms/step - loss: 1.6673 - accuracy: 0.6214\n",
      "Epoch 87/160\n",
      "3636/3636 [==============================] - 81s 22ms/step - loss: 1.6593 - accuracy: 0.6237\n",
      "Epoch 88/160\n",
      "3636/3636 [==============================] - 92s 25ms/step - loss: 1.6659 - accuracy: 0.6217\n",
      "Epoch 89/160\n",
      "3636/3636 [==============================] - 92s 25ms/step - loss: 1.6516 - accuracy: 0.6254\n",
      "Epoch 90/160\n",
      "3636/3636 [==============================] - 92s 25ms/step - loss: 1.6360 - accuracy: 0.6284\n",
      "Epoch 91/160\n",
      "3636/3636 [==============================] - 92s 25ms/step - loss: 1.6503 - accuracy: 0.6256\n",
      "Epoch 92/160\n",
      "3636/3636 [==============================] - 92s 25ms/step - loss: 1.6240 - accuracy: 0.6309\n",
      "Epoch 93/160\n",
      "3636/3636 [==============================] - 97s 27ms/step - loss: 1.6194 - accuracy: 0.6301\n",
      "Epoch 94/160\n",
      "3636/3636 [==============================] - 101s 28ms/step - loss: 1.6139 - accuracy: 0.6303\n",
      "Epoch 95/160\n",
      "3636/3636 [==============================] - 93s 26ms/step - loss: 1.6130 - accuracy: 0.6327\n",
      "Epoch 96/160\n",
      "3636/3636 [==============================] - 94s 26ms/step - loss: 1.6024 - accuracy: 0.6346\n",
      "Epoch 97/160\n",
      "3636/3636 [==============================] - 94s 26ms/step - loss: 1.5888 - accuracy: 0.6360\n",
      "Epoch 98/160\n",
      "3636/3636 [==============================] - 87s 24ms/step - loss: 1.5854 - accuracy: 0.6376\n",
      "Epoch 99/160\n",
      "3636/3636 [==============================] - 96s 26ms/step - loss: 1.5752 - accuracy: 0.6397\n",
      "Epoch 100/160\n",
      "3636/3636 [==============================] - 102s 28ms/step - loss: 1.5821 - accuracy: 0.6382\n",
      "Epoch 101/160\n",
      "3636/3636 [==============================] - 102s 28ms/step - loss: 1.5699 - accuracy: 0.6407\n",
      "Epoch 102/160\n",
      "3636/3636 [==============================] - 101s 28ms/step - loss: 1.5638 - accuracy: 0.6424\n",
      "Epoch 103/160\n",
      "3636/3636 [==============================] - 101s 28ms/step - loss: 1.5596 - accuracy: 0.6417\n",
      "Epoch 104/160\n",
      "3636/3636 [==============================] - 103s 28ms/step - loss: 1.5545 - accuracy: 0.6416\n",
      "Epoch 105/160\n",
      "3636/3636 [==============================] - 104s 29ms/step - loss: 1.5547 - accuracy: 0.6437\n",
      "Epoch 106/160\n",
      "3636/3636 [==============================] - 99s 27ms/step - loss: 1.5480 - accuracy: 0.6447\n",
      "Epoch 107/160\n",
      "3636/3636 [==============================] - 82s 22ms/step - loss: 1.5397 - accuracy: 0.6446\n",
      "Epoch 108/160\n",
      "3636/3636 [==============================] - 80s 22ms/step - loss: 1.5416 - accuracy: 0.6433\n",
      "Epoch 109/160\n",
      "3636/3636 [==============================] - 85s 23ms/step - loss: 1.5210 - accuracy: 0.6467\n",
      "Epoch 110/160\n",
      "3636/3636 [==============================] - 80s 22ms/step - loss: 1.5221 - accuracy: 0.6486\n",
      "Epoch 111/160\n",
      "3636/3636 [==============================] - 79s 22ms/step - loss: 1.5159 - accuracy: 0.6498\n",
      "Epoch 112/160\n",
      "3636/3636 [==============================] - 79s 22ms/step - loss: 1.5054 - accuracy: 0.6516\n",
      "Epoch 113/160\n",
      "3636/3636 [==============================] - 85s 23ms/step - loss: 1.5063 - accuracy: 0.6511\n",
      "Epoch 114/160\n",
      "3636/3636 [==============================] - 90s 25ms/step - loss: 1.5016 - accuracy: 0.6517\n",
      "Epoch 115/160\n",
      "3636/3636 [==============================] - 89s 25ms/step - loss: 1.4843 - accuracy: 0.6554\n",
      "Epoch 116/160\n",
      "3636/3636 [==============================] - 91s 25ms/step - loss: 1.4954 - accuracy: 0.6535\n",
      "Epoch 117/160\n",
      "3636/3636 [==============================] - 84s 23ms/step - loss: 1.4897 - accuracy: 0.6561\n",
      "Epoch 118/160\n",
      "3636/3636 [==============================] - 86s 24ms/step - loss: 1.4816 - accuracy: 0.6560\n",
      "Epoch 119/160\n",
      "3636/3636 [==============================] - 89s 24ms/step - loss: 1.4727 - accuracy: 0.6572\n",
      "Epoch 120/160\n",
      "3636/3636 [==============================] - 85s 23ms/step - loss: 1.4827 - accuracy: 0.6559\n",
      "Epoch 121/160\n",
      "3636/3636 [==============================] - 84s 23ms/step - loss: 1.4790 - accuracy: 0.65770s - loss: 1.4\n",
      "Epoch 122/160\n",
      "3636/3636 [==============================] - 88s 24ms/step - loss: 1.4738 - accuracy: 0.6551\n",
      "Epoch 123/160\n",
      "3636/3636 [==============================] - 85s 23ms/step - loss: 1.4560 - accuracy: 0.6622\n",
      "Epoch 124/160\n",
      "3636/3636 [==============================] - 83s 23ms/step - loss: 1.4537 - accuracy: 0.6611\n",
      "Epoch 125/160\n",
      "3636/3636 [==============================] - 84s 23ms/step - loss: 1.4433 - accuracy: 0.6624\n",
      "Epoch 126/160\n",
      "3636/3636 [==============================] - 85s 23ms/step - loss: 1.4426 - accuracy: 0.6629\n",
      "Epoch 127/160\n",
      "3636/3636 [==============================] - 82s 22ms/step - loss: 1.4379 - accuracy: 0.6666\n",
      "Epoch 128/160\n",
      "3636/3636 [==============================] - 79s 22ms/step - loss: 1.4435 - accuracy: 0.6628\n",
      "Epoch 129/160\n",
      "3636/3636 [==============================] - 79s 22ms/step - loss: 1.4461 - accuracy: 0.6627\n",
      "Epoch 130/160\n",
      "3636/3636 [==============================] - 78s 22ms/step - loss: 1.4273 - accuracy: 0.6672\n",
      "Epoch 131/160\n",
      "3636/3636 [==============================] - 77s 21ms/step - loss: 1.4358 - accuracy: 0.6646\n",
      "Epoch 132/160\n",
      "3636/3636 [==============================] - 76s 21ms/step - loss: 1.4228 - accuracy: 0.6681\n",
      "Epoch 133/160\n",
      "3636/3636 [==============================] - 75s 21ms/step - loss: 1.4054 - accuracy: 0.6695\n",
      "Epoch 134/160\n",
      "3636/3636 [==============================] - 76s 21ms/step - loss: 1.4113 - accuracy: 0.6684\n",
      "Epoch 135/160\n",
      "3636/3636 [==============================] - 75s 21ms/step - loss: 1.4083 - accuracy: 0.6722\n",
      "Epoch 136/160\n",
      "3636/3636 [==============================] - 76s 21ms/step - loss: 1.4121 - accuracy: 0.6678\n",
      "Epoch 137/160\n",
      "3636/3636 [==============================] - 75s 21ms/step - loss: 1.3940 - accuracy: 0.6721\n",
      "Epoch 138/160\n",
      "3636/3636 [==============================] - 75s 21ms/step - loss: 1.3847 - accuracy: 0.6740\n",
      "Epoch 139/160\n",
      "3636/3636 [==============================] - 75s 21ms/step - loss: 1.3886 - accuracy: 0.6752\n",
      "Epoch 140/160\n",
      "3636/3636 [==============================] - 75s 21ms/step - loss: 1.3822 - accuracy: 0.6752\n",
      "Epoch 141/160\n",
      "3636/3636 [==============================] - 75s 21ms/step - loss: 1.3922 - accuracy: 0.6720\n",
      "Epoch 142/160\n",
      "3636/3636 [==============================] - 76s 21ms/step - loss: 1.3730 - accuracy: 0.6748\n",
      "Epoch 143/160\n",
      "3636/3636 [==============================] - 77s 21ms/step - loss: 1.3756 - accuracy: 0.6750\n",
      "Epoch 144/160\n",
      "3636/3636 [==============================] - 83s 23ms/step - loss: 1.3653 - accuracy: 0.6790\n",
      "Epoch 145/160\n",
      "3636/3636 [==============================] - 82s 23ms/step - loss: 1.3669 - accuracy: 0.6769\n",
      "Epoch 146/160\n",
      "3636/3636 [==============================] - 80s 22ms/step - loss: 1.3750 - accuracy: 0.6770\n",
      "Epoch 147/160\n",
      "3636/3636 [==============================] - 79s 22ms/step - loss: 1.3706 - accuracy: 0.6772\n",
      "Epoch 148/160\n",
      "3636/3636 [==============================] - 81s 22ms/step - loss: 1.3806 - accuracy: 0.6750\n",
      "Epoch 149/160\n",
      "3636/3636 [==============================] - 82s 23ms/step - loss: 1.3747 - accuracy: 0.6748\n",
      "Epoch 150/160\n",
      "3636/3636 [==============================] - 83s 23ms/step - loss: 1.3510 - accuracy: 0.68150s - loss: 1.3508 - accura\n",
      "Epoch 151/160\n",
      "3636/3636 [==============================] - 82s 23ms/step - loss: 1.3581 - accuracy: 0.6799\n",
      "Epoch 152/160\n",
      "3636/3636 [==============================] - 81s 22ms/step - loss: 1.3512 - accuracy: 0.6796\n",
      "Epoch 153/160\n",
      "3636/3636 [==============================] - 83s 23ms/step - loss: 1.3503 - accuracy: 0.6804\n",
      "Epoch 154/160\n"
     ]
    },
    {
     "name": "stdout",
     "output_type": "stream",
     "text": [
      "3636/3636 [==============================] - 83s 23ms/step - loss: 1.3519 - accuracy: 0.6805\n",
      "Epoch 155/160\n",
      "3636/3636 [==============================] - 83s 23ms/step - loss: 1.3331 - accuracy: 0.6846\n",
      "Epoch 156/160\n",
      "3636/3636 [==============================] - 85s 23ms/step - loss: 1.3422 - accuracy: 0.6819\n",
      "Epoch 157/160\n",
      "3636/3636 [==============================] - 95s 26ms/step - loss: 1.3338 - accuracy: 0.6836\n",
      "Epoch 158/160\n",
      "3636/3636 [==============================] - 86s 24ms/step - loss: 1.3452 - accuracy: 0.6818\n",
      "Epoch 159/160\n",
      "3636/3636 [==============================] - 87s 24ms/step - loss: 1.3457 - accuracy: 0.6815\n",
      "Epoch 160/160\n",
      "3636/3636 [==============================] - 85s 23ms/step - loss: 1.3175 - accuracy: 0.6878\n"
     ]
    }
   ],
   "source": [
    "with tf.device('/gpu:0'):\n",
    "  model = Sequential()\n",
    "  model.add(Embedding(len(all_words)+1, 128, input_length=max_sequence_len-1))\n",
    "  model.add(Bidirectional(LSTM(64)))\n",
    "  model.add(Dense(len(all_words)+1, activation='softmax'))\n",
    "  model.compile(loss='categorical_crossentropy', optimizer='adam', metrics=['accuracy'])\n",
    "  history = model.fit(xs, ys, epochs=160, verbose=1)"
   ]
  },
  {
   "cell_type": "code",
   "execution_count": 9,
   "id": "automated-singer",
   "metadata": {},
   "outputs": [
    {
     "name": "stderr",
     "output_type": "stream",
     "text": [
      "WARNING:absl:Found untraced functions such as lstm_cell_1_layer_call_fn, lstm_cell_1_layer_call_and_return_conditional_losses, lstm_cell_2_layer_call_fn, lstm_cell_2_layer_call_and_return_conditional_losses, lstm_cell_1_layer_call_fn while saving (showing 5 of 10). These functions will not be directly callable after loading.\n",
      "WARNING:absl:Found untraced functions such as lstm_cell_1_layer_call_fn, lstm_cell_1_layer_call_and_return_conditional_losses, lstm_cell_2_layer_call_fn, lstm_cell_2_layer_call_and_return_conditional_losses, lstm_cell_1_layer_call_fn while saving (showing 5 of 10). These functions will not be directly callable after loading.\n"
     ]
    },
    {
     "name": "stdout",
     "output_type": "stream",
     "text": [
      "INFO:tensorflow:Assets written to: predict-next/assets\n"
     ]
    },
    {
     "name": "stderr",
     "output_type": "stream",
     "text": [
      "INFO:tensorflow:Assets written to: predict-next/assets\n"
     ]
    }
   ],
   "source": [
    "model.save(\"predict-next\")"
   ]
  },
  {
   "cell_type": "code",
   "execution_count": 10,
   "id": "thirty-birthday",
   "metadata": {},
   "outputs": [],
   "source": [
    "import matplotlib.pyplot as plt\n",
    "\n",
    "\n",
    "def plot_graphs(history, string):\n",
    "  plt.plot(history.history[string])\n",
    "  plt.xlabel(\"Epochs\")\n",
    "  plt.ylabel(string)\n",
    "  plt.show()"
   ]
  },
  {
   "cell_type": "code",
   "execution_count": 11,
   "id": "psychological-lodging",
   "metadata": {},
   "outputs": [
    {
     "data": {
      "image/png": "[encoded data removed]",
      "text/plain": [
       "<Figure size 432x288 with 1 Axes>"
      ]
     },
     "metadata": {
      "needs_background": "light"
     },
     "output_type": "display_data"
    }
   ],
   "source": [
    "plot_graphs(history, 'accuracy')"
   ]
  },
  {
   "cell_type": "code",
   "execution_count": 12,
   "id": "lovely-sterling",
   "metadata": {},
   "outputs": [
    {
     "name": "stdout",
     "output_type": "stream",
     "text": [
      "WARNING:tensorflow:Model was constructed with shape (None, 165) for input KerasTensor(type_spec=TensorSpec(shape=(None, 165), dtype=tf.float32, name='embedding_input'), name='embedding_input', description=\"created by layer 'embedding_input'\"), but it was called on an input with incompatible shape (None, 166).\n"
     ]
    },
    {
     "name": "stderr",
     "output_type": "stream",
     "text": [
      "WARNING:tensorflow:Model was constructed with shape (None, 165) for input KerasTensor(type_spec=TensorSpec(shape=(None, 165), dtype=tf.float32, name='embedding_input'), name='embedding_input', description=\"created by layer 'embedding_input'\"), but it was called on an input with incompatible shape (None, 166).\n"
     ]
    }
   ],
   "source": [
    "input_text = \"how are\"\n",
    "next_words = 1\n",
    "\n",
    "input_text = str(input_text).lower()\n",
    "input_text = input_text.split()\n",
    "inp = bag_of_word(input_text, word_index)\n",
    "inp = np.reshape(inp,(1,166))\n",
    "predict = model.predict(inp, verbose=0)\n",
    "predicted = np.argmax(predict,axis=1)\n",
    "\n",
    "output_word = \"\"\n",
    "for word, idx in word_index.items():\n",
    "    if idx == predicted:\n",
    "      output_word = (word)\n"
   ]
  },
  {
   "cell_type": "code",
   "execution_count": 13,
   "id": "driving-hartford",
   "metadata": {},
   "outputs": [
    {
     "data": {
      "text/plain": [
       "'you'"
      ]
     },
     "execution_count": 13,
     "metadata": {},
     "output_type": "execute_result"
    }
   ],
   "source": [
    "output_word #Predicted word"
   ]
  },
  {
   "cell_type": "code",
   "execution_count": 14,
   "id": "acknowledged-senior",
   "metadata": {},
   "outputs": [],
   "source": [
    "input_text = \"why are you like\"\n",
    "next_words = 1\n",
    "\n",
    "input_text = str(input_text).lower()\n",
    "input_text = input_text.split()\n",
    "inp = bag_of_word(input_text, word_index)\n",
    "inp = np.reshape(inp,(1,166))\n",
    "predict = model.predict(inp, verbose=0)\n",
    "predicted = np.argmax(predict,axis=1)\n",
    "\n",
    "output_word = \"\"\n",
    "for word, idx in word_index.items():\n",
    "    if idx == predicted:\n",
    "      output_word = (word)"
   ]
  },
  {
   "cell_type": "code",
   "execution_count": 15,
   "id": "antique-cologne",
   "metadata": {},
   "outputs": [
    {
     "data": {
      "text/plain": [
       "'him'"
      ]
     },
     "execution_count": 15,
     "metadata": {},
     "output_type": "execute_result"
    }
   ],
   "source": [
    "output_word"
   ]
  },
  {
   "cell_type": "code",
   "execution_count": null,
   "id": "labeled-russell",
   "metadata": {},
   "outputs": [],
   "source": []
  }
 ],
 "metadata": {
  "kernelspec": {
   "display_name": "Python 3",
   "language": "python",
   "name": "python3"
  },
  "language_info": {
   "codemirror_mode": {
    "name": "ipython",
    "version": 3
   },
   "file_extension": ".py",
   "mimetype": "text/x-python",
   "name": "python",
   "nbconvert_exporter": "python",
   "pygments_lexer": "ipython3",
   "version": "3.8.5"
  }
 },
 "nbformat": 4,
 "nbformat_minor": 5
}
