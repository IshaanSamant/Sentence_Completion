{
  "nbformat": 4,
  "nbformat_minor": 0,
  "metadata": {
    "colab": {
      "name": "fillintheblanks",
      "provenance": [],
      "collapsed_sections": [],
      "authorship_tag": "ABX9TyPQF0w+VHIfQckIyrkf8Ku3",
      "include_colab_link": true
    },
    "kernelspec": {
      "name": "python3",
      "display_name": "Python 3"
    },
    "language_info": {
      "name": "python"
    }
  },
  "cells": [
    {
      "cell_type": "markdown",
      "metadata": {
        "id": "view-in-github",
        "colab_type": "text"
      },
      "source": [
        "<a href=\"https://colab.research.google.com/github/pranav-nambiar/suggest-next-word/blob/main/fillintheblanks.ipynb\" target=\"_parent\"><img src=\"https://colab.research.google.com/assets/colab-badge.svg\" alt=\"Open In Colab\"/></a>"
      ]
    },
    {
      "cell_type": "code",
      "metadata": {
        "colab": {
          "base_uri": "https://localhost:8080/"
        },
        "id": "xHmTYVGiCbJa",
        "outputId": "db99e81f-8b7b-4f91-9ec9-b75bfc8b8e0a"
      },
      "source": [
        "!pip install pytorch-transformers > /dev/null\n",
        "import torch\n",
        "import numpy as np\n",
        "from pytorch_transformers import BertTokenizer, BertForMaskedLM\n",
        "import nltk\n",
        "nltk.download('punkt')"
      ],
      "execution_count": 35,
      "outputs": [
        {
          "output_type": "stream",
          "text": [
            "[nltk_data] Downloading package punkt to /root/nltk_data...\n",
            "[nltk_data]   Package punkt is already up-to-date!\n"
          ],
          "name": "stdout"
        },
        {
          "output_type": "execute_result",
          "data": {
            "text/plain": [
              "True"
            ]
          },
          "metadata": {
            "tags": []
          },
          "execution_count": 35
        }
      ]
    },
    {
      "cell_type": "code",
      "metadata": {
        "id": "0-x0ZLBwRTeB"
      },
      "source": [
        "tokenizer = BertTokenizer.from_pretrained('bert-base-uncased')\n",
        "model = BertForMaskedLM.from_pretrained('bert-base-uncased', output_attentions=True)\n",
        "model.eval()"
      ],
      "execution_count": null,
      "outputs": []
    },
    {
      "cell_type": "code",
      "metadata": {
        "id": "9SJD0MYIE54q"
      },
      "source": [
        "def predict():\n",
        "    sentence_orig = input('Enter text:')\n",
        "    if '____' not in sentence_orig:\n",
        "        return sentence_orig\n",
        "    \n",
        "    print(\"Correct input format\")\n",
        "    \n",
        "    sentence = sentence_orig.replace('____', 'MASK')\n",
        "    tokens = nltk.word_tokenize(sentence)\n",
        "    sentences = nltk.sent_tokenize(sentence)\n",
        "    sentence = \" [SEP] \".join(sentences)\n",
        "    sentence = \"[CLS] \" + sentence + \" [SEP]\"\n",
        "    tokenized_text = tokenizer.tokenize(sentence)\n",
        "    masked_index = tokenized_text.index('mask')\n",
        "    tokenized_text[masked_index] = \"[MASK]\"\n",
        "    indexed_tokens = tokenizer.convert_tokens_to_ids(tokenized_text)\n",
        "\n",
        "    segments_ids = []\n",
        "    sentences = sentence.split('[SEP]')\n",
        "    for i in range(len(sentences)-1):\n",
        "        segments_ids.extend([i]*len(sentences[i].strip().split()))\n",
        "        segments_ids.extend([i])\n",
        "\n",
        "    tokens_tensor = torch.tensor([indexed_tokens])\n",
        "    segments_tensors = torch.tensor([segments_ids])\n",
        "\n",
        "    with torch.no_grad():\n",
        "            outputs = model(tokens_tensor, token_type_ids=segments_tensors)\n",
        "            predictions = outputs[0]\n",
        "            attention = outputs[-1]\n",
        "\n",
        "    dim = attention[2][0].shape[-1]*attention[2][0].shape[-1]\n",
        "    a = attention[2][0].reshape(12, dim)\n",
        "    b = a.mean(axis=0)\n",
        "    c = b.reshape(attention[2][0].shape[-1],attention[2][0].shape[-1])\n",
        "    avg_wgts = c[masked_index]\n",
        "\n",
        "    focus = [tokenized_text[i] for i in avg_wgts.argsort().tolist()[::-1] if tokenized_text[i] not in ['[SEP]', '[CLS]', '[MASK]']][:5]\n",
        "\n",
        "    predicted_index = torch.argmax(predictions[0, masked_index]).item()\n",
        "    predicted_token = tokenizer.convert_ids_to_tokens([predicted_index])[0]\n",
        "    \n",
        "    return sentence_orig.replace('____', predicted_token)"
      ],
      "execution_count": 17,
      "outputs": []
    },
    {
      "cell_type": "code",
      "metadata": {
        "colab": {
          "base_uri": "https://localhost:8080/",
          "height": 69
        },
        "id": "FLcJlEuBhSLc",
        "outputId": "7212a100-f489-4dd6-aaf5-16a797a1647a"
      },
      "source": [
        "predict()"
      ],
      "execution_count": 21,
      "outputs": [
        {
          "output_type": "stream",
          "text": [
            "Enter text:Eyes are the ____ to the world .\n",
            "Correct input format\n"
          ],
          "name": "stdout"
        },
        {
          "output_type": "execute_result",
          "data": {
            "application/vnd.google.colaboratory.intrinsic+json": {
              "type": "string"
            },
            "text/plain": [
              "'Eyes are the key to the world .'"
            ]
          },
          "metadata": {
            "tags": []
          },
          "execution_count": 21
        }
      ]
    },
    {
      "cell_type": "code",
      "metadata": {
        "colab": {
          "base_uri": "https://localhost:8080/",
          "height": 69
        },
        "id": "3sCCDwkChTVW",
        "outputId": "9bcd81fb-a001-471c-9477-cde55fac3e39"
      },
      "source": [
        "predict()"
      ],
      "execution_count": 22,
      "outputs": [
        {
          "output_type": "stream",
          "text": [
            "Enter text:We ____ football yesterday .\n",
            "Correct input format\n"
          ],
          "name": "stdout"
        },
        {
          "output_type": "execute_result",
          "data": {
            "application/vnd.google.colaboratory.intrinsic+json": {
              "type": "string"
            },
            "text/plain": [
              "'We played football yesterday .'"
            ]
          },
          "metadata": {
            "tags": []
          },
          "execution_count": 22
        }
      ]
    },
    {
      "cell_type": "code",
      "metadata": {
        "colab": {
          "base_uri": "https://localhost:8080/",
          "height": 69
        },
        "id": "P4vOjemFlgvl",
        "outputId": "4cb6382b-95c7-46b4-84d5-633eb936081b"
      },
      "source": [
        "predict()"
      ],
      "execution_count": 25,
      "outputs": [
        {
          "output_type": "stream",
          "text": [
            "Enter text:The balloon is filled with helium . so it is ____ than air .\n",
            "Correct input format\n"
          ],
          "name": "stdout"
        },
        {
          "output_type": "execute_result",
          "data": {
            "application/vnd.google.colaboratory.intrinsic+json": {
              "type": "string"
            },
            "text/plain": [
              "'The balloon is filled with helium . so it is lighter than air .'"
            ]
          },
          "metadata": {
            "tags": []
          },
          "execution_count": 25
        }
      ]
    },
    {
      "cell_type": "code",
      "metadata": {
        "colab": {
          "base_uri": "https://localhost:8080/",
          "height": 69
        },
        "id": "hmZ-l1W1l7PH",
        "outputId": "4116bfeb-92cf-415e-e713-c4e34ae8f804"
      },
      "source": [
        "predict()"
      ],
      "execution_count": 28,
      "outputs": [
        {
          "output_type": "stream",
          "text": [
            "Enter text:I knew it was going to rain , but I forgot to take my ____ , and got wet on the way .\n",
            "Correct input format\n"
          ],
          "name": "stdout"
        },
        {
          "output_type": "execute_result",
          "data": {
            "application/vnd.google.colaboratory.intrinsic+json": {
              "type": "string"
            },
            "text/plain": [
              "'I knew it was going to rain , but I forgot to take my coat , and got wet on the way .'"
            ]
          },
          "metadata": {
            "tags": []
          },
          "execution_count": 28
        }
      ]
    },
    {
      "cell_type": "code",
      "metadata": {
        "colab": {
          "base_uri": "https://localhost:8080/",
          "height": 69
        },
        "id": "kVQdsvskq8QD",
        "outputId": "9a747405-75b2-456b-e262-ccf8a6345a6f"
      },
      "source": [
        "predict()"
      ],
      "execution_count": 34,
      "outputs": [
        {
          "output_type": "stream",
          "text": [
            "Enter text:Site activity information : We keep ____ of some of the actions you take on Facebook .\n",
            "Correct input format\n"
          ],
          "name": "stdout"
        },
        {
          "output_type": "execute_result",
          "data": {
            "application/vnd.google.colaboratory.intrinsic+json": {
              "type": "string"
            },
            "text/plain": [
              "'Site activity information : We keep track of some of the actions you take on Facebook .'"
            ]
          },
          "metadata": {
            "tags": []
          },
          "execution_count": 34
        }
      ]
    },
    {
      "cell_type": "code",
      "metadata": {
        "id": "j2qnh7AwuIgO"
      },
      "source": [
        ""
      ],
      "execution_count": null,
      "outputs": []
    }
  ]
}